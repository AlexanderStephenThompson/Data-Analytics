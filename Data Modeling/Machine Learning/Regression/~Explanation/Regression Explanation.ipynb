{
 "cells": [
  {
   "cell_type": "markdown",
   "metadata": {},
   "source": [
    "# Regression\n",
    "\n",
    "Regression is supervised model which observers the relationship between a dependent target variable and an independent predictive variable(s) on a scatter plot by finding the best-fitting line of the two continuous attributes. It learns (Or evaluates) by checking its prediction against the actual though a metric called RSME, hence why it's a supervised model. This is useful if you see a visible trend in the data, if not, see if there are clusters you can have a model to try to detect. \n",
    "\n",
    "\n",
    "There are three primary metrics that can be gained: Coefficients, R, and RSME.\n",
    " - Correlation Coefficients: Interpretable values of each independent predictive value, indicating how much a 1 unit increase will effect the target.\n",
    " - RSME: A measure of how close its predictions are to the actual values. \n",
    " - R: How closely the values fit the line. As in, the strength of a pattern we're able to catch.\n",
    "\n",
    "<img src='./Assets/R Values.png'/>\n",
    "\n",
    "\n",
    "It's important to know which type of regression to use. Though it's pretty easy to figure out which one to see when you plot your data and see a pattern for yourself. It would be silly to do a linear regression on a plot that clearly has a polynomial like pattern, right? \n",
    "\n",
    "<img src='./Assets/Regression Types.png'/>\n"
   ]
  }
 ],
 "metadata": {
  "language_info": {
   "name": "python"
  },
  "orig_nbformat": 4
 },
 "nbformat": 4,
 "nbformat_minor": 2
}
