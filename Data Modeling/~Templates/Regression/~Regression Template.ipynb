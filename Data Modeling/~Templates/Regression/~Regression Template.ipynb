{
 "cells": [
  {
   "cell_type": "markdown",
   "metadata": {},
   "source": [
    "# <span style=\"font-size:0\"></span><div style=\"padding:1.5rem;color:white;margin:10;font-size:2rem;text-align:left;display:fill;border-radius:10px;background-color:#FFFFFF;overflow:hidden;background-color:#1f89e3\"><b><span style='color:#FFFFFF'>1 |</span> Understand</b></div> \n",
    "\n",
    "[Project brief]"
   ]
  },
  {
   "cell_type": "code",
   "execution_count": null,
   "metadata": {},
   "outputs": [],
   "source": [
    "# Load The Data\n",
    "\n",
    "# Tools\n",
    "import pandas as pd\n",
    "import numpy as np\n",
    "\n",
    "# Visualization\n",
    "import matplotlib.pyplot as plt\n",
    "import seaborn as sns\n",
    "\n",
    "df = pd.read_csv('Some.csv')\n",
    "target_attribute = \"Price\"\n",
    "\n",
    "list_of_columns = df.columns.values.tolist()\n",
    "print(list_of_columns)"
   ]
  },
  {
   "cell_type": "markdown",
   "metadata": {},
   "source": [
    "## <b><span style='color:#1f89e3'> 1.1 |</span> Data Dictionary</b>\n",
    "Some small snippet explaining what the table is representing.\n",
    "\n",
    "<table border=\"1\" class=\"dataframe\">\n",
    "  <thead>\n",
    "    <tr style=\"text-align: right;\">\n",
    "      <th>Attribute Name</th>\n",
    "      <th>Description</th>\n",
    "    </tr>\n",
    "  </thead>\n",
    "  <tbody>\n",
    "    <tr>\n",
    "      <td>Attribute 1</td>\n",
    "      <td>Lorem ipsum dolor sit amet, consectetur adipiscing elit, sed do eiusmod tempor incididunt ut labore et dolore magna aliqua.</td>\n",
    "    </tr>\n",
    "    <tr>\n",
    "      <td>Attribute 2</td>\n",
    "      <td>Lorem ipsum dolor sit amet, consectetur adipiscing elit, sed do eiusmod tempor incididunt ut labore et dolore magna aliqua.</td>\n",
    "    </tr>\n",
    "    <tr>\n",
    "      <td>Attribute 3</td>\n",
    "      <td>Lorem ipsum dolor sit amet, consectetur adipiscing elit, sed do eiusmod tempor incididunt ut labore et dolore magna aliqua.</td>\n",
    "    </tr>\n",
    "    <tr>\n",
    "      <td>Attribute 4</td>\n",
    "      <td>Lorem ipsum dolor sit amet, consectetur adipiscing elit, sed do eiusmod tempor incididunt ut labore et dolore magna aliqua.</td>\n",
    "    </tr>\n",
    "    <tr>\n",
    "      <td>Attribute 5</td>\n",
    "      <td>Lorem ipsum dolor sit amet, consectetur adipiscing elit, sed do eiusmod tempor incididunt ut labore et dolore magna aliqua.</td>\n",
    "    </tr>\n",
    "  </tbody>\n",
    "</table>\n",
    "\n",
    "\n",
    "<div class=\"alert alert-block alert-info\">\n",
    "<b>Info:</b> Use blue boxes (alert-info) for tips and notes. \n",
    "If it’s a note, you don’t have to include the word “Note”.\n",
    "</div>\n",
    "\n",
    "<div class=\"alert alert-block alert-success\">\n",
    "<b>Good:</b> Use green boxes sparingly, and only for some specific \n",
    "purpose that the other boxes can't cover. For example, if you have a lot \n",
    "of related content to link to, maybe you decide to use green boxes for \n",
    "related links from each section of a notebook.\n",
    "</div>\n",
    "\n",
    "<div class=\"alert alert-block alert-warning\">\n",
    "<b>Warning:</b> Use yellow boxes for examples that are not \n",
    "inside code cells, or use for mathematical formulas if needed.\n",
    "</div>\n",
    "\n",
    "<div class=\"alert alert-block alert-danger\">\n",
    "<b>Danger:</b> These should only be used for actions that might cause data loss or another major issue.\n",
    "</div>"
   ]
  },
  {
   "cell_type": "markdown",
   "metadata": {},
   "source": [
    "## <b><span style='color:#1f89e3'> 1.2 | </span>Preview Dataframe</b>"
   ]
  },
  {
   "cell_type": "code",
   "execution_count": null,
   "metadata": {},
   "outputs": [],
   "source": [
    "df"
   ]
  },
  {
   "cell_type": "markdown",
   "metadata": {},
   "source": [
    "## <b><span style='color:#1f89e3'> 1.3 | </span>Visual Representation</b>\n",
    "\n",
    "<img src='./Assets/Some_Image.png'/>\n",
    "Some Image"
   ]
  },
  {
   "cell_type": "markdown",
   "metadata": {},
   "source": [
    "# <span style=\"font-size:0\"></span><div style=\"padding:1.5rem;color:white;margin:10;font-size:2rem;text-align:left;display:fill;border-radius:10px;background-color:#FFFFFF;overflow:hidden;background-color:#1f89e3\"><b><span style='color:#FFFFFF'>2 |</span> Clean</b></div> \n",
    "\n",
    "The better the data represents what it intended to capture, the better the results. Focusing on clean data and the natural integrity it provides also yields the highest quality information, best represents the truth, and empowers you with better overall decision making, ability to learn about something, or just the capacity to work more easily discover something we’re trying to improve. \n",
    "\n",
    "Whereas dirty data is incorrect, missing, outdated, inconsistent, irrelevant, improperly formatted, possibly containing duplicated which effects true numeric aggregations, any anything else that lowers the dependability of the information. Without reliable data integrity, we can’t trust results that derive from it."
   ]
  },
  {
   "cell_type": "markdown",
   "metadata": {},
   "source": [
    "## <b><span style='color:#1f89e3'> 2.1 | </span>Relevancy</b>\n",
    "Filtering data or dropping columns that’s not relevant to the project. Also archive outdated data if applicable. \n"
   ]
  },
  {
   "cell_type": "code",
   "execution_count": null,
   "metadata": {},
   "outputs": [],
   "source": [
    "attributes_to_drop = []\n",
    "\n",
    "# We know address won't contribute anything unless if we may do some feature engineering on it.\n",
    "attributes_to_drop.append(\"Something\")"
   ]
  },
  {
   "cell_type": "markdown",
   "metadata": {},
   "source": [
    "## <b><span style='color:#1f89e3'> 2.2 | </span>Completeness</b>\n",
    "Handling missing data / null values. Often it’s either random, specific, or at some range. If there’s too much data missing, be sure to acknowledge that in your findings to whoever you’re presenting findings to. "
   ]
  },
  {
   "cell_type": "code",
   "execution_count": null,
   "metadata": {},
   "outputs": [],
   "source": [
    "# Missing data in terms of percentages for each attribute.\n",
    "threshold = 0\n",
    "\n",
    "missing = ((df.isnull().sum() / len(df)) * 100).round(2)\n",
    "filtered = missing[missing > threshold].reset_index()\n",
    "filtered.columns = ['Attribute', 'Missing Percentage']\n",
    "\n",
    "# Format and sort the DataFrame\n",
    "filtered['Missing Percentage'] = filtered['Missing Percentage'].apply(lambda x: f\"{x:.2f}%\")\n",
    "empties_df = filtered.sort_values(by='Missing Percentage').style.hide()\n",
    "\n",
    "# Check if the underlying DataFrame is empty\n",
    "if len(empties_df.data) == 0:\n",
    "    print(\"No empties!\")\n",
    "else:\n",
    "    empties_df"
   ]
  },
  {
   "cell_type": "markdown",
   "metadata": {},
   "source": [
    "<div class=\"alert alert-block alert-warning\">\n",
    "    <b>Warning:</b> Probably missing data. \n",
    "</div>"
   ]
  },
  {
   "cell_type": "code",
   "execution_count": null,
   "metadata": {},
   "outputs": [],
   "source": [
    "sns.heatmap(df.isnull(), yticklabels=False,cbar=False,cmap='plasma')"
   ]
  },
  {
   "cell_type": "markdown",
   "metadata": {},
   "source": [
    "## <b><span style='color:#1f89e3'> 2.3 | </span>Validity</b>\n",
    "Remove duplicates, address outliers, and check for contextual validity."
   ]
  },
  {
   "cell_type": "code",
   "execution_count": null,
   "metadata": {},
   "outputs": [],
   "source": [
    "duplicates = df[df.duplicated()]\n",
    "\n",
    "if len(duplicates) == 0:\n",
    "    print(\"No duplicates!\")\n",
    "else:\n",
    "    duplicates"
   ]
  },
  {
   "cell_type": "markdown",
   "metadata": {},
   "source": [
    "## <b><span style='color:#1f89e3'> 2.4 | </span>Consistent</b>\n",
    "\n",
    "Formatting of data types & structures. Maintaining consistent units of measure too. So, developing or choosing a standard to consistently stick with is important"
   ]
  },
  {
   "cell_type": "markdown",
   "metadata": {},
   "source": [
    "## <b><span style='color:#1f89e3'> 2.5 | </span>Accurate</b>\n",
    "\n",
    "Fix or remove incorrect data and review contextual accuracy.\n",
    "\n",
    "Examples\n",
    " - Text: Fix misspellings, remove white spaces\n",
    " - Dates: Fix formats and truncation\n",
    " - Numbers: Correct data type if you haven’t done so yet. Correct ranges. \n"
   ]
  },
  {
   "cell_type": "markdown",
   "metadata": {},
   "source": [
    "<div class=\"alert alert-block alert-success\">\n",
    "    <b>All set:</b> Yay, the data is all clean!\n",
    "</div>"
   ]
  },
  {
   "cell_type": "markdown",
   "metadata": {},
   "source": [
    "# <span style=\"font-size:0\"></span><div style=\"padding:1.5rem;color:white;margin:10;font-size:2rem;text-align:left;display:fill;border-radius:10px;background-color:#FFFFFF;overflow:hidden;background-color:#1f89e3\"><b><span style='color:#FFFFFF'>3 |</span> Analyze</b></div> \n",
    "Mastering numpy and pandas will be critical to make attribute engineering easier. "
   ]
  },
  {
   "cell_type": "markdown",
   "metadata": {},
   "source": [
    "## <b><span style='color:#1f89e3'> 3.1 | </span>Intro</b>"
   ]
  },
  {
   "cell_type": "code",
   "execution_count": null,
   "metadata": {},
   "outputs": [],
   "source": [
    "df.describe().transpose()"
   ]
  },
  {
   "cell_type": "code",
   "execution_count": null,
   "metadata": {},
   "outputs": [],
   "source": [
    "sns.pairplot(df)"
   ]
  },
  {
   "cell_type": "code",
   "execution_count": null,
   "metadata": {},
   "outputs": [],
   "source": [
    "# Create a correlation matrix for numeric columns in the DataFrame\n",
    "corr_matrix = df.corr(numeric_only=True)\n",
    "\n",
    "# Create a mask to hide the upper triangle of the correlation matrix\n",
    "mask = np.triu(np.ones_like(corr_matrix))\n",
    "\n",
    "# Color Options\n",
    "diverging_cmap = 'coolwarm'\n",
    "zero_continous_cmap = 'mako'\n",
    "\n",
    "# Plot a heatmap of the correlation matrix with the mask\n",
    "sns.heatmap(corr_matrix, linewidths=0.5, mask=mask, cmap=zero_continous_cmap, annot=True)"
   ]
  },
  {
   "cell_type": "code",
   "execution_count": null,
   "metadata": {},
   "outputs": [],
   "source": [
    "# See the correlation strengths for the target attribute. \n",
    "df.corr(numeric_only=True)[target_attribute].sort_values()[:-1].plot(kind='barh')"
   ]
  },
  {
   "cell_type": "code",
   "execution_count": null,
   "metadata": {},
   "outputs": [],
   "source": [
    "# Cluster Feature Engineering\n",
    "from sklearn.cluster import KMeans\n",
    "\n",
    "# Perform K-means clustering and add cluster labels to the original DataFrame\n",
    "kmeans = KMeans(n_clusters=13, random_state=0,n_init='auto')\n",
    "df['Cluster_Labels'] = kmeans.fit_predict(df[[\"Measure To Cluster By\"]]).astype(str)\n",
    "\n",
    "# Clean up and make label names more semantic as needed.\n",
    "\n",
    "df.head(3)"
   ]
  },
  {
   "cell_type": "markdown",
   "metadata": {},
   "source": [
    "## <b><span style='color:#1f89e3'> 3.2 | </span>Metrics</b>"
   ]
  },
  {
   "cell_type": "code",
   "execution_count": null,
   "metadata": {},
   "outputs": [],
   "source": [
    "import pandas as pd\n",
    "from tabulate import tabulate\n",
    "\n",
    "# Your code to aggregate data\n",
    "aggregated_data = df.groupby('Price_Clusters').agg(\n",
    "    Average_Area_Income=pd.NamedAgg(column='Avg. Area Income', aggfunc='mean'),\n",
    "    Average_House_Age=pd.NamedAgg(column='Avg. Area House Age', aggfunc='mean'),\n",
    "    Average_Number_Of_Rooms=pd.NamedAgg(column='Avg. Area Number of Rooms', aggfunc='mean'),\n",
    "    Average_Number_Of_Bedrooms=pd.NamedAgg(column='Avg. Area Number of Bedrooms', aggfunc='mean'),\n",
    "    Average_Area_Population=pd.NamedAgg(column='Area Population', aggfunc='mean'),\n",
    "    Average_Price=pd.NamedAgg(column='Price', aggfunc='mean')\n",
    ").reset_index()\n",
    "\n",
    "# Pivot the data using pivot_table\n",
    "pivoted_data = pd.pivot_table(aggregated_data, \n",
    "                              values=['Average_Area_Population', \n",
    "                                      'Average_House_Age',\n",
    "                                      'Average_Number_Of_Rooms',\n",
    "                                      'Average_Number_Of_Bedrooms',\n",
    "                                      'Average_Area_Population', \n",
    "                                      'Average_Price' ],\n",
    "                               index=['Price_Clusters'], \n",
    "                               aggfunc='first')\n",
    "\n",
    "# Format the 'Average_Price' column as currency\n",
    "pivoted_data['Average_Price'] = pivoted_data['Average_Price'].map('${:,.2f}'.format)\n",
    "pivoted_data['Average_Area_Income'] = pivoted_data['Average_Area_Income'].map('${:,.2f}'.format)\n",
    "\n",
    "# Print the pivoted table with right-aligned 'Average_Price' column\n",
    "table = tabulate(pivoted_data, headers='keys', tablefmt='grid', showindex=True, stralign='right')\n",
    "print(table)"
   ]
  },
  {
   "cell_type": "markdown",
   "metadata": {},
   "source": [
    "## <b><span style='color:#1f89e3'> 3.3 | </span>Composition</b>"
   ]
  },
  {
   "cell_type": "code",
   "execution_count": null,
   "metadata": {},
   "outputs": [],
   "source": [
    "import plotly.express as px\n",
    "\n",
    "data = df.sort_values(by=\"Price_Clusters\")\n",
    "\n",
    "avg_prices = df.groupby('Price_Clusters')['Price'].mean().reset_index()\n",
    "avg_prices = avg_prices.rename(columns={'Price': 'Average_Price'})\n",
    "\n",
    "# Have to make sure you're using the correct aggregation for these visualizations. \n",
    "fig = px.treemap(avg_prices, path=[\"Price_Clusters\"], values=\"Average_Price\")\n",
    "\n",
    "# Show the treemap\n",
    "fig.show()"
   ]
  },
  {
   "cell_type": "code",
   "execution_count": null,
   "metadata": {},
   "outputs": [],
   "source": [
    "# Create a DataFrame\n",
    "data = pd.DataFrame(data)\n",
    "\n",
    "# Calculate the average price for each 'Price_Clusters' category\n",
    "avg_prices = data.groupby('Price_Clusters')['Price'].mean().reset_index()\n",
    "\n",
    "# Sort the DataFrame in descending order based on 'Price'\n",
    "avg_prices = avg_prices.sort_values(by='Price', ascending=False)\n",
    "\n",
    "# Calculate the cumulative percentage for each unique 'Price_Clusters'\n",
    "unique_clusters = avg_prices['Price_Clusters'].unique()\n",
    "cumulative_percentages = []\n",
    "\n",
    "total_sum = avg_prices['Price'].sum()\n",
    "cumulative_sum = 0\n",
    "\n",
    "for cluster in unique_clusters:\n",
    "    subset = avg_prices[avg_prices['Price_Clusters'] == cluster]\n",
    "    cluster_sum = subset['Price'].sum()\n",
    "    cumulative_sum += cluster_sum\n",
    "    cumulative_percentage = (cumulative_sum / total_sum) * 100\n",
    "    cumulative_percentages.append(cumulative_percentage)\n",
    "\n",
    "# Create a Pareto chart with one cumulative percentage point per category\n",
    "fig, ax1 = plt.subplots()\n",
    "\n",
    "# Bar chart (Avg_Price)\n",
    "ax1.bar(avg_prices['Price_Clusters'], avg_prices['Price'], color='royalblue', alpha=0.7)\n",
    "ax1.set_xlabel('Price Clusters')\n",
    "ax1.set_ylabel('Avg_Price', color='royalblue')\n",
    "ax1.tick_params(axis='y', labelcolor='royalblue')\n",
    "\n",
    "# Line chart (Cumulative Percentage)\n",
    "ax2 = ax1.twinx()\n",
    "ax2.plot(unique_clusters, cumulative_percentages, marker='o', color='red', linestyle='-', markersize=6)\n",
    "ax2.set_ylabel('Cumulative Percentage (%)', color='red')\n",
    "ax2.tick_params(axis='y', labelcolor='red')\n",
    "\n",
    "# Add labels to the cumulative percentage points\n",
    "for x, y in zip(unique_clusters, cumulative_percentages):\n",
    "    ax2.annotate(f'{y:.2f}%', (x, y), textcoords=\"offset points\", xytext=(0, 10), ha='center')\n",
    "\n",
    "# Customize labels and title\n",
    "plt.title('Pareto Chart')\n",
    "plt.xticks(rotation=45)\n",
    "\n",
    "# Show the chart\n",
    "plt.tight_layout()\n",
    "plt.show()"
   ]
  },
  {
   "cell_type": "markdown",
   "metadata": {},
   "source": [
    "## <b><span style='color:#1f89e3'> 3.4 | </span>Distribution</b>"
   ]
  },
  {
   "cell_type": "code",
   "execution_count": null,
   "metadata": {},
   "outputs": [],
   "source": [
    "sns.displot(data=df, x=target_attribute, hue=\"Price_Clusters\")"
   ]
  },
  {
   "cell_type": "code",
   "execution_count": null,
   "metadata": {},
   "outputs": [],
   "source": [
    "sns.boxplot(data=df, x=target_attribute)"
   ]
  },
  {
   "cell_type": "code",
   "execution_count": null,
   "metadata": {},
   "outputs": [],
   "source": [
    "data = df.sort_values(by='Price_Clusters')\n",
    "\n",
    "sns.boxplot(data=data, x=target_attribute, y=\"Price_Clusters\", hue=\"Price_Clusters\", dodge=False)"
   ]
  },
  {
   "cell_type": "markdown",
   "metadata": {},
   "source": [
    "## <b><span style='color:#1f89e3'> 3.5 | </span>Relationships</b>"
   ]
  },
  {
   "cell_type": "markdown",
   "metadata": {},
   "source": [
    "## <b><span style='color:#1f89e3'> 3.6 | </span>Ranking</b>"
   ]
  },
  {
   "cell_type": "code",
   "execution_count": null,
   "metadata": {},
   "outputs": [],
   "source": [
    "# Sort the DataFrame by 'Price' in descending order\n",
    "data = df.sort_values(by='Price', ascending=False)\n",
    "\n",
    "# Calculate the average price\n",
    "average_price = data['Price'].mean()\n",
    "\n",
    "# Set locale for currency formatting (you can adjust this to your preferred currency)\n",
    "locale.setlocale(locale.LC_ALL, 'en_US.UTF-8')\n",
    "\n",
    "# Format the average price with currency symbol and commas\n",
    "average_price_formatted = locale.currency(average_price, grouping=True)\n",
    "\n",
    "# Create a bar chart\n",
    "sns.set(style=\"whitegrid\")  # Set the style of the plot\n",
    "\n",
    "plt.figure(figsize=(18, 6))  # Set the figure size\n",
    "\n",
    "# Create the bar chart using seaborn with the sorted data\n",
    "sns.barplot(x=\"Price_Clusters\", y=\"Price\", data=data, palette=\"Greens_r\")\n",
    "\n",
    "# Add labels and a title\n",
    "plt.xlabel(\"Price_Clusters\")\n",
    "plt.ylabel(\"Price\")\n",
    "plt.title(\"Price per Price_Clusters (Sorted by Price)\")\n",
    "\n",
    "# Rotate x-axis labels for better readability (optional)\n",
    "plt.xticks(rotation=45)\n",
    "\n",
    "# Add the average reference line with formatted average price\n",
    "plt.axhline(average_price, color='green', linestyle='--', label=f'Average Price: {average_price_formatted}')\n",
    "\n",
    "# Show the legend\n",
    "plt.legend()\n",
    "\n",
    "# Show the plot\n",
    "plt.show()\n"
   ]
  },
  {
   "cell_type": "markdown",
   "metadata": {},
   "source": [
    "## <b><span style='color:#1f89e3'> 3.7 | </span>Summary</b>"
   ]
  },
  {
   "cell_type": "markdown",
   "metadata": {},
   "source": [
    "# <span style=\"font-size:0\"></span><div style=\"padding:1.5rem;color:white;margin:10;font-size:2rem;text-align:left;display:fill;border-radius:10px;background-color:#FFFFFF;overflow:hidden;background-color:#1f89e3\"><b><span style='color:#FFFFFF'>4 |</span> Process</b></div> "
   ]
  },
  {
   "cell_type": "code",
   "execution_count": null,
   "metadata": {},
   "outputs": [],
   "source": [
    "df = df.drop(attributes_to_drop, axis=1)# Finally drop the columns we don't want\n",
    "\n",
    "df"
   ]
  },
  {
   "cell_type": "markdown",
   "metadata": {},
   "source": [
    "## <b><span style='color:#1f89e3'> 4.1 | </span>Encode</b>"
   ]
  },
  {
   "cell_type": "code",
   "execution_count": null,
   "metadata": {},
   "outputs": [],
   "source": [
    "# Use pandas get_dummies function for one-hot encoding\n",
    "encoded_df = pd.get_dummies(df, columns=['Price_Clusters'])\n",
    "encoded_df"
   ]
  },
  {
   "cell_type": "markdown",
   "metadata": {},
   "source": [
    "## <b><span style='color:#1f89e3'> 4.2 | </span>Split</b>"
   ]
  },
  {
   "cell_type": "code",
   "execution_count": null,
   "metadata": {},
   "outputs": [],
   "source": [
    "from sklearn.model_selection import train_test_split\n",
    "\n",
    "# Full Data set\n",
    "training_DF = df.drop(target_attribute,axis=1).values\n",
    "target_variable = df[target_attribute].values\n",
    "\n",
    "X_train, X_test, y_train, y_test = train_test_split(training_DF,target_variable,test_size=0.3,random_state=101)"
   ]
  },
  {
   "cell_type": "markdown",
   "metadata": {},
   "source": [
    "## <b><span style='color:#1f89e3'> 4.3 | </span>Scale</b>"
   ]
  },
  {
   "cell_type": "code",
   "execution_count": null,
   "metadata": {},
   "outputs": [],
   "source": [
    "# Only use scaling if it's needed. Best for neural network applications\n",
    "\n",
    "from sklearn.preprocessing import MinMaxScaler\n",
    "\n",
    "scaler = MinMaxScaler()\n",
    "\n",
    "X_train= scaler.fit_transform(X_train)\n",
    "X_test = scaler.transform(X_test)\n",
    "\n",
    "print(X_train.shape)\n",
    "print(X_test.shape)"
   ]
  },
  {
   "cell_type": "markdown",
   "metadata": {},
   "source": [
    "# <span style=\"font-size:0\"></span><div style=\"padding:1.5rem;color:white;margin:10;font-size:2rem;text-align:left;display:fill;border-radius:10px;background-color:#FFFFFF;overflow:hidden;background-color:#1f89e3\"><b><span style='color:#FFFFFF'>5 |</span> Model</b></div> \n",
    "\n",
    "With all the prep work done, now we can have fun modeling. Which should be easy since we've prepared the data nicely.\n",
    "\n",
    "__Scikit Learn Process__\n",
    " 1. Import and Instantiate: `from sklearn.linear_model import LinearRegression` then model = LinearRegression()\n",
    " 2. Fit (Train): model.fit(X_train, y_train)\n",
    " 3. Predict: model.predict(X_test)\n"
   ]
  },
  {
   "cell_type": "markdown",
   "metadata": {},
   "source": [
    "## <b><span style='color:#1f89e3'> 5.1 | </span>Design</b>"
   ]
  },
  {
   "cell_type": "markdown",
   "metadata": {},
   "source": [
    "### <b><span style='color:#1f89e3'>Create</span></b>"
   ]
  },
  {
   "cell_type": "code",
   "execution_count": null,
   "metadata": {},
   "outputs": [],
   "source": [
    "from sklearn.linear_model import LinearRegression\n",
    "lm = LinearRegression()"
   ]
  },
  {
   "cell_type": "markdown",
   "metadata": {},
   "source": [
    "### <b><span style='color:#1f89e3'>Train</span></b>"
   ]
  },
  {
   "cell_type": "code",
   "execution_count": null,
   "metadata": {},
   "outputs": [],
   "source": [
    "lm.fit(X_train,y_train)"
   ]
  },
  {
   "cell_type": "markdown",
   "metadata": {},
   "source": [
    "## <b><span style='color:#1f89e3'> 5.2 | </span>Evaluate</b>"
   ]
  },
  {
   "cell_type": "code",
   "execution_count": null,
   "metadata": {},
   "outputs": [],
   "source": [
    "eval_df = df.drop(target_attribute, axis=1) # Remove our target attribute.\n",
    "\n",
    "coeff_df = (\n",
    "    pd.DataFrame({'Coefficient': lm.coef_.round(2)}, index=eval_df.columns )\n",
    "    .sort_values(by='Coefficient', ascending=True)\n",
    "    .style.format({'Coefficient': \"${:,.2f}\"})\n",
    ")\n",
    "coeff_df.columns.name = 'Attributes'\n",
    "\n",
    "coeff_df"
   ]
  },
  {
   "cell_type": "markdown",
   "metadata": {},
   "source": [
    "### <b><span style='color:#1f89e3'>Error Metrics</span></b>"
   ]
  },
  {
   "cell_type": "code",
   "execution_count": null,
   "metadata": {},
   "outputs": [],
   "source": [
    "from sklearn.metrics import mean_squared_error, explained_variance_score\n",
    "\n",
    "predictions = lm.predict(X_test)\n",
    "\n",
    "error = round(np.sqrt(mean_squared_error(y_test,predictions)),2)\n",
    "formatted_error = \"{:,}\".format(error)\n",
    "\n",
    "explained_variance = round(explained_variance_score(y_test,predictions) * 100,2)\n",
    "\n",
    "average_price = round(df['Price'].mean(),2)\n",
    "formatted_price = \"{:,}\".format(average_price)\n",
    "\n",
    "print(f'Standard error on predictions is ${formatted_error} with an explained variance score of {explained_variance}% based on an average price of ${formatted_price}.')\n"
   ]
  },
  {
   "cell_type": "code",
   "execution_count": null,
   "metadata": {},
   "outputs": [],
   "source": [
    "predictions = lm.predict(X_test)\n",
    "plt.scatter(y_test,predictions)"
   ]
  },
  {
   "cell_type": "code",
   "execution_count": null,
   "metadata": {},
   "outputs": [],
   "source": [
    "sns.displot((y_test-predictions),bins=50)"
   ]
  },
  {
   "cell_type": "markdown",
   "metadata": {},
   "source": [
    "### <b><span style='color:#1f89e3'>Modify</span></b>\n",
    "\n",
    "Document process here"
   ]
  },
  {
   "cell_type": "markdown",
   "metadata": {},
   "source": [
    "### <b><span style='color:#1f89e3'>Final Test</span></b>"
   ]
  },
  {
   "cell_type": "code",
   "execution_count": null,
   "metadata": {},
   "outputs": [],
   "source": [
    "eval_df.columns"
   ]
  },
  {
   "cell_type": "code",
   "execution_count": null,
   "metadata": {},
   "outputs": [],
   "source": [
    "# List the item's attributes in the order of the encoded dataframe without the target..\n",
    "# Test_Item = ['Avg. Area Income', 'Avg. Area House Age', 'Avg. Area Number of Rooms', 'Avg. Area Number of Bedrooms', 'Area Population', 'Price_Cluster']\n",
    "\n",
    "Test_Item = [[10000,5,4,2,23000,3]]\n",
    "\n",
    "predicted_price =(lm.predict(Test_Item)).astype(\"int32\")[0]\n",
    "formatted_price = locale.currency(predicted_price, grouping=True)\n",
    "\n",
    "print(f\"The predicted price is: {formatted_price}.\")"
   ]
  },
  {
   "cell_type": "markdown",
   "metadata": {},
   "source": [
    "## <b><span style='color:#1f89e3'> 5.3 | </span>Deploy</b>"
   ]
  },
  {
   "cell_type": "code",
   "execution_count": null,
   "metadata": {},
   "outputs": [],
   "source": [
    "import joblib\n",
    "\n",
    "# Save\n",
    "joblib.dump(lm, 'linear_regression_model.pkl')\n",
    "print(\"Saved!\")\n",
    "\n",
    "# Deploy\n",
    "loaded_model = joblib.load('linear_regression_model.pkl')\n",
    "\n",
    "# Test\n",
    "predicted_price = loaded_model.predict(Test_Item).astype(\"int32\")[0]\n",
    "formatted_price = locale.currency(predicted_price, grouping=True)\n",
    "print(f\"The predicted price is: {formatted_price}.\")"
   ]
  }
 ],
 "metadata": {
  "kernelspec": {
   "display_name": "Python 3",
   "language": "python",
   "name": "python3"
  },
  "language_info": {
   "name": "python",
   "version": "3.11.5"
  },
  "orig_nbformat": 4
 },
 "nbformat": 4,
 "nbformat_minor": 2
}
