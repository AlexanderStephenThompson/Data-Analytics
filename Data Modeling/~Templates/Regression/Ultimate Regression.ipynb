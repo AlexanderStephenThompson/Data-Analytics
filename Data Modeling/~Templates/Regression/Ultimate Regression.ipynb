{
 "cells": [
  {
   "cell_type": "code",
   "execution_count": 1,
   "metadata": {},
   "outputs": [
    {
     "name": "stdout",
     "output_type": "stream",
     "text": [
      "Best Ensemble: RandomForest\n",
      "Best Hyperparameters: {'max_depth': None, 'min_samples_split': 2, 'n_estimators': 200}\n",
      "Best RMSE: 0.5018215331774152\n"
     ]
    }
   ],
   "source": [
    "from sklearn.datasets import fetch_california_housing\n",
    "from sklearn.model_selection import train_test_split\n",
    "from sklearn.ensemble import RandomForestRegressor, AdaBoostRegressor, GradientBoostingRegressor\n",
    "from sklearn.model_selection import GridSearchCV\n",
    "from sklearn.metrics import mean_squared_error\n",
    "from math import sqrt\n",
    "\n",
    "# Load the California housing dataset\n",
    "data = fetch_california_housing()\n",
    "\n",
    "# Split the data into features (X) and target (y)\n",
    "X = data.data\n",
    "y = data.target\n",
    "\n",
    "# Split the data into training and testing sets\n",
    "X_train, X_test, y_train, y_test = train_test_split(X, y, test_size=0.2, random_state=42)\n",
    "\n",
    "# Define a list of ensemble models\n",
    "ensemble_models = [\n",
    "    (\"RandomForest\", RandomForestRegressor()),\n",
    "    (\"AdaBoost\", AdaBoostRegressor()),\n",
    "    (\"GradientBoosting\", GradientBoostingRegressor())\n",
    "]\n",
    "\n",
    "# Define hyperparameter grids for each ensemble\n",
    "param_grids = {\n",
    "    \"RandomForest\": {\n",
    "        \"n_estimators\": [100, 200],\n",
    "        \"max_depth\": [None, 10],\n",
    "        \"min_samples_split\": [2, 5]\n",
    "    },\n",
    "    \"AdaBoost\": {\n",
    "        \"n_estimators\": [50, 100],\n",
    "        \"learning_rate\": [0.01, 0.1]\n",
    "    },\n",
    "    \"GradientBoosting\": {\n",
    "        \"n_estimators\": [50, 100],\n",
    "        \"learning_rate\": [0.01, 0.1],\n",
    "        \"max_depth\": [3, 4]\n",
    "    }\n",
    "}\n",
    "\n",
    "results = {}\n",
    "\n",
    "# Loop through ensemble models and hyperparameters\n",
    "for model_name, model in ensemble_models:\n",
    "    param_grid = param_grids[model_name]\n",
    "    \n",
    "    # Create GridSearchCV for the current ensemble model\n",
    "    grid_search = GridSearchCV(model, param_grid, scoring='neg_mean_squared_error', cv=5)\n",
    "    \n",
    "    # Fit the model and find the best hyperparameters\n",
    "    grid_search.fit(X_train, y_train)\n",
    "    \n",
    "    # Evaluate the model with the best hyperparameters\n",
    "    y_pred = grid_search.predict(X_test)\n",
    "    rmse = sqrt(mean_squared_error(y_test, y_pred))\n",
    "    \n",
    "    # Store results\n",
    "    results[model_name] = {\"best_params\": grid_search.best_params_, \"RMSE\": rmse}\n",
    "\n",
    "# Compare results to find the best ensemble method and hyperparameters\n",
    "best_ensemble = min(results, key=lambda x: results[x][\"RMSE\"])\n",
    "best_params = results[best_ensemble][\"best_params\"]\n",
    "best_rmse = results[best_ensemble][\"RMSE\"]\n",
    "\n",
    "print(f\"Best Ensemble: {best_ensemble}\")\n",
    "print(f\"Best Hyperparameters: {best_params}\")\n",
    "print(f\"Best RMSE: {best_rmse}\")"
   ]
  }
 ],
 "metadata": {
  "kernelspec": {
   "display_name": "Python 3",
   "language": "python",
   "name": "python3"
  },
  "language_info": {
   "codemirror_mode": {
    "name": "ipython",
    "version": 3
   },
   "file_extension": ".py",
   "mimetype": "text/x-python",
   "name": "python",
   "nbconvert_exporter": "python",
   "pygments_lexer": "ipython3",
   "version": "3.11.5"
  },
  "orig_nbformat": 4
 },
 "nbformat": 4,
 "nbformat_minor": 2
}
